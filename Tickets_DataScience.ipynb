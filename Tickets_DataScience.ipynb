{
  "cells": [
    {
      "metadata": {
        "trusted": true
      },
      "cell_type": "code",
      "source": "import numpy as nm\nimport pandas as pd\nimport os\n\ntrain_df=pd.read_csv('train.csv')\ntest_df=pd.read_csv('test.csv')",
      "execution_count": 1,
      "outputs": []
    },
    {
      "metadata": {
        "trusted": true
      },
      "cell_type": "code",
      "source": "train_df.info()",
      "execution_count": 2,
      "outputs": [
        {
          "output_type": "stream",
          "text": "<class 'pandas.core.frame.DataFrame'>\nRangeIndex: 389 entries, 0 to 388\nData columns (total 25 columns):\nReopened?                         389 non-null int64\nPriority                          389 non-null int64\nAssignment group                  389 non-null int64\nWeightage                         389 non-null int64\nHighest Assignment group          389 non-null int64\nSupport Level(IE?)                389 non-null int64\nAutomation Pickup Time (Min)      389 non-null int64\nTechnician Pickup Time (Min)      389 non-null int64\nIE Escalation Time (Hrs)          389 non-null float64\nBusiness Resolution Time (Hrs)    389 non-null float64\nAutomation Pickup Time Range      389 non-null int64\nAutomation Pickup in < 5 Min?     389 non-null int64\nIE Catgory                        389 non-null int64\ntechnician Pickup in < 15 Min?    389 non-null int64\nWeek Resolved                     389 non-null int64\nWeek Escala0d                     389 non-null int64\nResolved < 60 Min?                389 non-null int64\nKnowledge Article Used?           389 non-null int64\nHour Resolved                     389 non-null int64\nKB Article Used?                  389 non-null int64\n05 min or less?                   389 non-null int64\nCluster                           389 non-null int64\nInitial Priority                  389 non-null int64\nMTTR SLA Met?                     389 non-null int64\nMTTA SLA Met?                     389 non-null int64\ndtypes: float64(2), int64(23)\nmemory usage: 76.0 KB\n",
          "name": "stdout"
        }
      ]
    },
    {
      "metadata": {
        "trusted": true
      },
      "cell_type": "code",
      "source": "X=train_df.loc[:,'Priority':].as_matrix().astype('float')\ny=train_df['Reopened?'].ravel()",
      "execution_count": 3,
      "outputs": [
        {
          "output_type": "stream",
          "text": "/home/nbuser/anaconda2_501/lib/python2.7/site-packages/ipykernel/__main__.py:1: FutureWarning: Method .as_matrix will be removed in a future version. Use .values instead.\n  if __name__ == '__main__':\n",
          "name": "stderr"
        }
      ]
    },
    {
      "metadata": {
        "trusted": true
      },
      "cell_type": "code",
      "source": "print X.shape, y.shape",
      "execution_count": 4,
      "outputs": [
        {
          "output_type": "stream",
          "text": "(389, 24) (389,)\n",
          "name": "stdout"
        }
      ]
    },
    {
      "metadata": {
        "trusted": true
      },
      "cell_type": "code",
      "source": "from sklearn.model_selection import train_test_split\n\nX_train, X_test, y_train, y_test=train_test_split(X,y,test_size=0.2,random_state=0)\n",
      "execution_count": 5,
      "outputs": []
    },
    {
      "metadata": {
        "trusted": true
      },
      "cell_type": "code",
      "source": "print X_train.shape, y_train.shape\n\nprint X_test.shape, y_test.shape\n\nprint 'Mean Reopened in train : {0:.3f}'.format(nm.mean(y_train))\n\nprint 'Mean Reopened in test : {0:.3f}'.format(nm.mean(y_test))",
      "execution_count": 6,
      "outputs": [
        {
          "output_type": "stream",
          "text": "(311, 24) (311,)\n(78, 24) (78,)\nMean Reopened in train : 0.309\nMean Reopened in test : 0.308\n",
          "name": "stdout"
        }
      ]
    },
    {
      "metadata": {
        "trusted": true
      },
      "cell_type": "code",
      "source": "# we can see that reopened mean is same for both, so the dataset is splitted properly",
      "execution_count": 7,
      "outputs": []
    },
    {
      "metadata": {},
      "cell_type": "markdown",
      "source": "## BaseLine Model"
    },
    {
      "metadata": {
        "trusted": true
      },
      "cell_type": "code",
      "source": "from sklearn.dummy import DummyClassifier\n\nmodel_dummy= DummyClassifier(strategy='most_frequent', random_state=0)\n\nmodel_dummy.fit(X_train,y_train)\n\n#giving inputs to the dummy algo or the baseline algo",
      "execution_count": 8,
      "outputs": [
        {
          "output_type": "execute_result",
          "execution_count": 8,
          "data": {
            "text/plain": "DummyClassifier(constant=None, random_state=0, strategy='most_frequent')"
          },
          "metadata": {}
        }
      ]
    },
    {
      "metadata": {
        "trusted": true
      },
      "cell_type": "code",
      "source": "print 'Score for baseline model : {0: .2f}'.format(model_dummy.score(X_test, y_test))\n\n# in this the model will first get a prediction as output from dummy model or baseline model\n# all these outputs will then be compared to the y_test which the actual result, hence will give as an idea as to how accurately the algo is predicting by comparing the predicted o/p to the actual values\n\n#as the answer is 0.69, this means that 69% of times the baseline models predicts right\n\n# so without using ML, we are still getting .69 accuracy just by classification for predicitng wheather a ticket will be reopened or not",
      "execution_count": 9,
      "outputs": [
        {
          "output_type": "stream",
          "text": "Score for baseline model :  0.69\n",
          "name": "stdout"
        }
      ]
    },
    {
      "metadata": {
        "trusted": true
      },
      "cell_type": "code",
      "source": "import pandas\nimport matplotlib.pyplot as plt\nfrom sklearn import model_selection\nfrom sklearn.linear_model import LogisticRegression\nfrom sklearn.tree import DecisionTreeClassifier\nfrom sklearn.neighbors import KNeighborsClassifier\nfrom sklearn.discriminant_analysis import LinearDiscriminantAnalysis\nfrom sklearn.naive_bayes import GaussianNB\nfrom sklearn.svm import SVC\n\n# prepare configuration for cross validation test harness\nseed = 7\n# prepare models\nmodels = []\nmodels.append(('LR', LogisticRegression()))\nmodels.append(('LDA', LinearDiscriminantAnalysis()))\nmodels.append(('KNN', KNeighborsClassifier()))\nmodels.append(('CART', DecisionTreeClassifier()))\nmodels.append(('NB', GaussianNB()))\nmodels.append(('SVM', SVC()))\n# evaluate each model in turn\nresults = []\nnames = []\nscoring = 'accuracy'\nfor name, model in models:\n\tkfold = model_selection.KFold(n_splits=10, random_state=seed)\n\tcv_results = model_selection.cross_val_score(model, X, y, cv=kfold, scoring=scoring)\n\tresults.append(cv_results)\n\tnames.append(name)\n\tmsg = \"%s: %f (%f)\" % (name, cv_results.mean(), cv_results.std())\n\tprint(msg)\n# boxplot algorithm comparison\nfig = plt.figure()\nfig.suptitle('Algorithm Comparison')\nax = fig.add_subplot(111)\nplt.boxplot(results)\nax.set_xticklabels(names)\nplt.show()",
      "execution_count": 10,
      "outputs": [
        {
          "output_type": "stream",
          "text": "/home/nbuser/anaconda2_501/lib/python2.7/site-packages/matplotlib/font_manager.py:281: UserWarning: Matplotlib is building the font cache using fc-list. This may take a moment.\n  'Matplotlib is building the font cache using fc-list. '\n",
          "name": "stderr"
        },
        {
          "output_type": "stream",
          "text": "LR: 0.766127 (0.123630)\n",
          "name": "stdout"
        },
        {
          "output_type": "stream",
          "text": "/home/nbuser/anaconda2_501/lib/python2.7/site-packages/sklearn/discriminant_analysis.py:388: UserWarning: Variables are collinear.\n  warnings.warn(\"Variables are collinear.\")\n",
          "name": "stderr"
        },
        {
          "output_type": "stream",
          "text": "LDA: 0.760999 (0.150736)\nKNN: 0.735358 (0.092866)\nCART: 0.758435 (0.101225)\nNB: 0.686707 (0.226414)\nSVM: 0.750742 (0.192124)\n",
          "name": "stdout"
        },
        {
          "output_type": "display_data",
          "data": {
            "text/plain": "<Figure size 640x480 with 1 Axes>"
          },
          "metadata": {}
        }
      ]
    },
    {
      "metadata": {
        "trusted": true
      },
      "cell_type": "code",
      "source": "# so we can predict upto 76.6% using Logistic Regression and 76% with LinearDiscriminantAnalysis that whether a ticket will reopen or not. This is higher than baseline model of 69%.",
      "execution_count": null,
      "outputs": []
    }
  ],
  "metadata": {
    "kernelspec": {
      "name": "python2",
      "display_name": "Python 2",
      "language": "python"
    },
    "language_info": {
      "mimetype": "text/x-python",
      "nbconvert_exporter": "python",
      "name": "python",
      "pygments_lexer": "ipython2",
      "version": "2.7.15",
      "file_extension": ".py",
      "codemirror_mode": {
        "version": 2,
        "name": "ipython"
      }
    }
  },
  "nbformat": 4,
  "nbformat_minor": 1
}